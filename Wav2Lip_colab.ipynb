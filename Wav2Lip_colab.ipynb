{
 "cells": [
  {
   "cell_type": "code",
   "execution_count": null,
   "id": "setup",
   "metadata": {},
   "outputs": [],
   "source": [
    "# Clone the repo\n",
    "!git clone https://github.com/yashpagdhare03/Wav2Lip.git\n",
    "%cd Wav2Lip\n",
    "\n",
    "# Install dependencies\n",
    "!pip install -r requirements.txt\n",
    "\n",
    "# Install PyTorch CPU version\n",
    "!pip install torch torchvision torchaudio --index-url https://download.pytorch.org/whl/cpu\n",
    "\n",
    "# Install ffmpeg (for audio conversion)\n",
    "!apt install ffmpeg\n",
    "\n",
    "# Download pretrained models\n",
    "!bash download_models.sh"
   ]
  },
  {
   "cell_type": "code",
   "execution_count": null,
   "id": "upload",
   "metadata": {},
   "outputs": [],
   "source": [
    "# Upload face image or video, and audio file\n",
    "from google.colab import files\n",
    "uploaded = files.upload()"
   ]
  },
  {
   "cell_type": "code",
   "execution_count": null,
   "id": "run",
   "metadata": {},
   "outputs": [],
   "source": [
    "# Run the Wav2Lip model\n",
    "# Replace face.jpg and audio.wav with your uploaded filenames\n",
    "!python inference.py --checkpoint_path checkpoints/wav2lip_gan.pth --face face.jpg --audio audio.wav"
   ]
  },
  {
   "cell_type": "code",
   "execution_count": null,
   "id": "download",
   "metadata": {},
   "outputs": [],
   "source": [
    "# Download the result video\n",
    "from google.colab import files\n",
    "files.download('results/result_voice.mp4')"
   ]
  }
 ],
 "metadata": {
  "kernelspec": {
   "display_name": "Python 3",
   "language": "python",
   "name": "python3"
  },
  "language_info": {
   "name": "python"
  }
 },
 "nbformat": 4,
 "nbformat_minor": 4
}
